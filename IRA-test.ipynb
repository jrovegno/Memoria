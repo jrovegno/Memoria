{
 "cells": [
  {
   "cell_type": "code",
   "execution_count": 13,
   "metadata": {},
   "outputs": [
    {
     "name": "stdout",
     "output_type": "stream",
     "text": [
      "The autoreload extension is already loaded. To reload it, use:\n",
      "  %reload_ext autoreload\n"
     ]
    }
   ],
   "source": [
    "%load_ext autoreload\n",
    "%aimport acc\n",
    "%autoreload 1"
   ]
  },
  {
   "cell_type": "code",
   "execution_count": 2,
   "metadata": {
    "collapsed": true
   },
   "outputs": [],
   "source": [
    "import acc"
   ]
  },
  {
   "cell_type": "code",
   "execution_count": 25,
   "metadata": {
    "collapsed": true
   },
   "outputs": [],
   "source": [
    "# Crear una encuesta de prueba\n",
    "df = acc.data_survey(n=3, m=10)\n",
    "acc.write_survey(df, filename='test.xlsx')"
   ]
  },
  {
   "cell_type": "code",
   "execution_count": 26,
   "metadata": {},
   "outputs": [
    {
     "data": {
      "text/html": [
       "<div>\n",
       "<style scoped>\n",
       "    .dataframe tbody tr th:only-of-type {\n",
       "        vertical-align: middle;\n",
       "    }\n",
       "\n",
       "    .dataframe tbody tr th {\n",
       "        vertical-align: top;\n",
       "    }\n",
       "\n",
       "    .dataframe thead th {\n",
       "        text-align: right;\n",
       "    }\n",
       "</style>\n",
       "<table border=\"1\" class=\"dataframe\">\n",
       "  <thead>\n",
       "    <tr style=\"text-align: right;\">\n",
       "      <th></th>\n",
       "      <th>expert1</th>\n",
       "      <th>expert2</th>\n",
       "      <th>expert3</th>\n",
       "      <th>expert4</th>\n",
       "      <th>expert5</th>\n",
       "      <th>expert6</th>\n",
       "      <th>expert7</th>\n",
       "      <th>expert8</th>\n",
       "      <th>expert9</th>\n",
       "      <th>expert10</th>\n",
       "    </tr>\n",
       "  </thead>\n",
       "  <tbody>\n",
       "    <tr>\n",
       "      <th>v1</th>\n",
       "      <td>1</td>\n",
       "      <td>2</td>\n",
       "      <td>1</td>\n",
       "      <td>2</td>\n",
       "      <td>2</td>\n",
       "      <td>3</td>\n",
       "      <td>1</td>\n",
       "      <td>1</td>\n",
       "      <td>2</td>\n",
       "      <td>1</td>\n",
       "    </tr>\n",
       "    <tr>\n",
       "      <th>v2</th>\n",
       "      <td>2</td>\n",
       "      <td>3</td>\n",
       "      <td>2</td>\n",
       "      <td>1</td>\n",
       "      <td>3</td>\n",
       "      <td>2</td>\n",
       "      <td>3</td>\n",
       "      <td>3</td>\n",
       "      <td>1</td>\n",
       "      <td>2</td>\n",
       "    </tr>\n",
       "    <tr>\n",
       "      <th>v3</th>\n",
       "      <td>3</td>\n",
       "      <td>1</td>\n",
       "      <td>3</td>\n",
       "      <td>3</td>\n",
       "      <td>1</td>\n",
       "      <td>1</td>\n",
       "      <td>2</td>\n",
       "      <td>2</td>\n",
       "      <td>3</td>\n",
       "      <td>3</td>\n",
       "    </tr>\n",
       "  </tbody>\n",
       "</table>\n",
       "</div>"
      ],
      "text/plain": [
       "    expert1  expert2  expert3  expert4  expert5  expert6  expert7  expert8  \\\n",
       "v1        1        2        1        2        2        3        1        1   \n",
       "v2        2        3        2        1        3        2        3        3   \n",
       "v3        3        1        3        3        1        1        2        2   \n",
       "\n",
       "    expert9  expert10  \n",
       "v1        2         1  \n",
       "v2        1         2  \n",
       "v3        3         3  "
      ]
     },
     "execution_count": 26,
     "metadata": {},
     "output_type": "execute_result"
    }
   ],
   "source": [
    "df = acc.load_survey(n=3, m=10, filename='test.xlsx')\n",
    "df"
   ]
  },
  {
   "cell_type": "code",
   "execution_count": 27,
   "metadata": {},
   "outputs": [
    {
     "data": {
      "text/html": [
       "<div>\n",
       "<style scoped>\n",
       "    .dataframe tbody tr th:only-of-type {\n",
       "        vertical-align: middle;\n",
       "    }\n",
       "\n",
       "    .dataframe tbody tr th {\n",
       "        vertical-align: top;\n",
       "    }\n",
       "\n",
       "    .dataframe thead th {\n",
       "        text-align: right;\n",
       "    }\n",
       "</style>\n",
       "<table border=\"1\" class=\"dataframe\">\n",
       "  <thead>\n",
       "    <tr style=\"text-align: right;\">\n",
       "      <th></th>\n",
       "      <th>expert1</th>\n",
       "      <th>expert2</th>\n",
       "      <th>expert3</th>\n",
       "      <th>expert4</th>\n",
       "      <th>expert5</th>\n",
       "      <th>expert6</th>\n",
       "      <th>expert7</th>\n",
       "      <th>expert8</th>\n",
       "      <th>expert9</th>\n",
       "      <th>expert10</th>\n",
       "    </tr>\n",
       "  </thead>\n",
       "  <tbody>\n",
       "    <tr>\n",
       "      <th>v1</th>\n",
       "      <td>2</td>\n",
       "      <td>1</td>\n",
       "      <td>2</td>\n",
       "      <td>1</td>\n",
       "      <td>1</td>\n",
       "      <td>0</td>\n",
       "      <td>2</td>\n",
       "      <td>2</td>\n",
       "      <td>1</td>\n",
       "      <td>2</td>\n",
       "    </tr>\n",
       "    <tr>\n",
       "      <th>v2</th>\n",
       "      <td>1</td>\n",
       "      <td>0</td>\n",
       "      <td>1</td>\n",
       "      <td>2</td>\n",
       "      <td>0</td>\n",
       "      <td>1</td>\n",
       "      <td>0</td>\n",
       "      <td>0</td>\n",
       "      <td>2</td>\n",
       "      <td>1</td>\n",
       "    </tr>\n",
       "    <tr>\n",
       "      <th>v3</th>\n",
       "      <td>0</td>\n",
       "      <td>2</td>\n",
       "      <td>0</td>\n",
       "      <td>0</td>\n",
       "      <td>2</td>\n",
       "      <td>2</td>\n",
       "      <td>1</td>\n",
       "      <td>1</td>\n",
       "      <td>0</td>\n",
       "      <td>0</td>\n",
       "    </tr>\n",
       "  </tbody>\n",
       "</table>\n",
       "</div>"
      ],
      "text/plain": [
       "    expert1  expert2  expert3  expert4  expert5  expert6  expert7  expert8  \\\n",
       "v1        2        1        2        1        1        0        2        2   \n",
       "v2        1        0        1        2        0        1        0        0   \n",
       "v3        0        2        0        0        2        2        1        1   \n",
       "\n",
       "    expert9  expert10  \n",
       "v1        1         2  \n",
       "v2        2         1  \n",
       "v3        0         0  "
      ]
     },
     "execution_count": 27,
     "metadata": {},
     "output_type": "execute_result"
    }
   ],
   "source": [
    "acc.Fc(df)"
   ]
  },
  {
   "cell_type": "code",
   "execution_count": 30,
   "metadata": {},
   "outputs": [
    {
     "data": {
      "text/plain": [
       "v1    0.466667\n",
       "v2    0.266667\n",
       "v3    0.266667\n",
       "dtype: float64"
      ]
     },
     "execution_count": 30,
     "metadata": {},
     "output_type": "execute_result"
    }
   ],
   "source": [
    "# Calcula ponderaciones\n",
    "w = acc.W(df)\n",
    "w"
   ]
  },
  {
   "cell_type": "code",
   "execution_count": 29,
   "metadata": {},
   "outputs": [
    {
     "data": {
      "text/plain": [
       "1.0"
      ]
     },
     "execution_count": 29,
     "metadata": {},
     "output_type": "execute_result"
    }
   ],
   "source": [
    "# Prueba que ponderaciones sumen 1\n",
    "sum(w)"
   ]
  },
  {
   "cell_type": "code",
   "execution_count": null,
   "metadata": {
    "collapsed": true
   },
   "outputs": [],
   "source": [
    "# Guardar a Excel\n",
    "w.to_excel('W_test.xlsx', header=['W'])\n",
    "# Leer desde Excel\n",
    "# pd.read_excel('W.xlsx')"
   ]
  },
  {
   "cell_type": "code",
   "execution_count": 31,
   "metadata": {},
   "outputs": [
    {
     "data": {
      "text/plain": [
       "3.0"
      ]
     },
     "execution_count": 31,
     "metadata": {},
     "output_type": "execute_result"
    }
   ],
   "source": [
    "# Prueba IRA\n",
    "acc.index(w, 1/w)"
   ]
  },
  {
   "cell_type": "code",
   "execution_count": 32,
   "metadata": {},
   "outputs": [
    {
     "data": {
      "text/plain": [
       "v1    2.142857\n",
       "v2    3.750000\n",
       "v3    3.750000\n",
       "dtype: float64"
      ]
     },
     "execution_count": 32,
     "metadata": {},
     "output_type": "execute_result"
    }
   ],
   "source": [
    "1/w"
   ]
  },
  {
   "cell_type": "code",
   "execution_count": 33,
   "metadata": {},
   "outputs": [
    {
     "data": {
      "text/html": [
       "<div>\n",
       "<style scoped>\n",
       "    .dataframe tbody tr th:only-of-type {\n",
       "        vertical-align: middle;\n",
       "    }\n",
       "\n",
       "    .dataframe tbody tr th {\n",
       "        vertical-align: top;\n",
       "    }\n",
       "\n",
       "    .dataframe thead th {\n",
       "        text-align: right;\n",
       "    }\n",
       "</style>\n",
       "<table border=\"1\" class=\"dataframe\">\n",
       "  <thead>\n",
       "    <tr style=\"text-align: right;\">\n",
       "      <th></th>\n",
       "      <th>Importance of each Variable? [Average depth of the phreatic level]</th>\n",
       "      <th>Importance of each Variable? [Surplus surface flow]</th>\n",
       "      <th>Importance of each Variable? [Distance to the source of flow for recharging]</th>\n",
       "      <th>Importance of each Variable? [Hydraulic conductivity]</th>\n",
       "      <th>Importance of each Variable? [Thickness of the aquifer]</th>\n",
       "      <th>Importance of each Variable? [Ground surface slope]</th>\n",
       "      <th>Average depth of the phreatic level: h [m] [h &lt; 3]</th>\n",
       "      <th>Average depth of the phreatic level: h [m] [3 &lt; h &lt; 5]</th>\n",
       "      <th>Average depth of the phreatic level: h [m] [5 &lt; h &lt; 10]</th>\n",
       "      <th>Average depth of the phreatic level: h [m] [10 &lt; h &lt; 20]</th>\n",
       "      <th>...</th>\n",
       "      <th>Thickness of the aquifer: t [m] [25 &lt; t &lt; 50]</th>\n",
       "      <th>Thickness of the aquifer: t [m] [50 &lt; t &lt; 100]</th>\n",
       "      <th>Thickness of the aquifer: t [m] [100 &lt; t]</th>\n",
       "      <th>Ground surface slope: s [m/m] [s &lt; 0.001%]</th>\n",
       "      <th>Ground surface slope: s [m/m] [0.001% &lt; s &lt; 0.01%]</th>\n",
       "      <th>Ground surface slope: s [m/m] [0.01% &lt; s &lt; 0.1%]</th>\n",
       "      <th>Ground surface slope: s [m/m] [0.1% &lt; s &lt; 1%]</th>\n",
       "      <th>Ground surface slope: s [m/m] [1% &lt; s &lt; 5%]</th>\n",
       "      <th>Ground surface slope: s [m/m] [5% &lt; s &lt; 10%]</th>\n",
       "      <th>Ground surface slope: s [m/m] [10% &lt; s]</th>\n",
       "    </tr>\n",
       "    <tr>\n",
       "      <th>Timestamp</th>\n",
       "      <th></th>\n",
       "      <th></th>\n",
       "      <th></th>\n",
       "      <th></th>\n",
       "      <th></th>\n",
       "      <th></th>\n",
       "      <th></th>\n",
       "      <th></th>\n",
       "      <th></th>\n",
       "      <th></th>\n",
       "      <th></th>\n",
       "      <th></th>\n",
       "      <th></th>\n",
       "      <th></th>\n",
       "      <th></th>\n",
       "      <th></th>\n",
       "      <th></th>\n",
       "      <th></th>\n",
       "      <th></th>\n",
       "      <th></th>\n",
       "      <th></th>\n",
       "    </tr>\n",
       "  </thead>\n",
       "  <tbody>\n",
       "    <tr>\n",
       "      <th>2018-02-03 00:21:20</th>\n",
       "      <td>4</td>\n",
       "      <td>5</td>\n",
       "      <td>3</td>\n",
       "      <td>6</td>\n",
       "      <td>2</td>\n",
       "      <td>1</td>\n",
       "      <td>1</td>\n",
       "      <td>3</td>\n",
       "      <td>6</td>\n",
       "      <td>7</td>\n",
       "      <td>...</td>\n",
       "      <td>7</td>\n",
       "      <td>4</td>\n",
       "      <td>2</td>\n",
       "      <td>5</td>\n",
       "      <td>6</td>\n",
       "      <td>7</td>\n",
       "      <td>4</td>\n",
       "      <td>3</td>\n",
       "      <td>2</td>\n",
       "      <td>1</td>\n",
       "    </tr>\n",
       "    <tr>\n",
       "      <th>2018-02-04 22:33:20</th>\n",
       "      <td>3</td>\n",
       "      <td>1</td>\n",
       "      <td>5</td>\n",
       "      <td>2</td>\n",
       "      <td>4</td>\n",
       "      <td>6</td>\n",
       "      <td>7</td>\n",
       "      <td>4</td>\n",
       "      <td>1</td>\n",
       "      <td>2</td>\n",
       "      <td>...</td>\n",
       "      <td>2</td>\n",
       "      <td>1</td>\n",
       "      <td>6</td>\n",
       "      <td>1</td>\n",
       "      <td>2</td>\n",
       "      <td>3</td>\n",
       "      <td>4</td>\n",
       "      <td>5</td>\n",
       "      <td>6</td>\n",
       "      <td>7</td>\n",
       "    </tr>\n",
       "  </tbody>\n",
       "</table>\n",
       "<p>2 rows × 48 columns</p>\n",
       "</div>"
      ],
      "text/plain": [
       "                     Importance of each Variable? [Average depth of the phreatic level]  \\\n",
       "Timestamp                                                                                 \n",
       "2018-02-03 00:21:20                                                  4                    \n",
       "2018-02-04 22:33:20                                                  3                    \n",
       "\n",
       "                     Importance of each Variable? [Surplus surface flow]  \\\n",
       "Timestamp                                                                  \n",
       "2018-02-03 00:21:20                                                  5     \n",
       "2018-02-04 22:33:20                                                  1     \n",
       "\n",
       "                     Importance of each Variable? [Distance to the source of flow for recharging]  \\\n",
       "Timestamp                                                                                           \n",
       "2018-02-03 00:21:20                                                  3                              \n",
       "2018-02-04 22:33:20                                                  5                              \n",
       "\n",
       "                     Importance of each Variable? [Hydraulic conductivity]  \\\n",
       "Timestamp                                                                    \n",
       "2018-02-03 00:21:20                                                  6       \n",
       "2018-02-04 22:33:20                                                  2       \n",
       "\n",
       "                     Importance of each Variable? [Thickness of the aquifer]  \\\n",
       "Timestamp                                                                      \n",
       "2018-02-03 00:21:20                                                  2         \n",
       "2018-02-04 22:33:20                                                  4         \n",
       "\n",
       "                     Importance of each Variable? [Ground surface slope]  \\\n",
       "Timestamp                                                                  \n",
       "2018-02-03 00:21:20                                                  1     \n",
       "2018-02-04 22:33:20                                                  6     \n",
       "\n",
       "                     Average depth of the phreatic level: h [m] [h < 3]  \\\n",
       "Timestamp                                                                 \n",
       "2018-02-03 00:21:20                                                  1    \n",
       "2018-02-04 22:33:20                                                  7    \n",
       "\n",
       "                     Average depth of the phreatic level: h [m] [3 < h < 5]  \\\n",
       "Timestamp                                                                     \n",
       "2018-02-03 00:21:20                                                  3        \n",
       "2018-02-04 22:33:20                                                  4        \n",
       "\n",
       "                     Average depth of the phreatic level: h [m] [5 < h < 10]  \\\n",
       "Timestamp                                                                      \n",
       "2018-02-03 00:21:20                                                  6         \n",
       "2018-02-04 22:33:20                                                  1         \n",
       "\n",
       "                     Average depth of the phreatic level: h [m] [10 < h < 20]  \\\n",
       "Timestamp                                                                       \n",
       "2018-02-03 00:21:20                                                  7          \n",
       "2018-02-04 22:33:20                                                  2          \n",
       "\n",
       "                                      ...                     \\\n",
       "Timestamp                             ...                      \n",
       "2018-02-03 00:21:20                   ...                      \n",
       "2018-02-04 22:33:20                   ...                      \n",
       "\n",
       "                     Thickness of the aquifer: t [m] [25 < t < 50]  \\\n",
       "Timestamp                                                            \n",
       "2018-02-03 00:21:20                                              7   \n",
       "2018-02-04 22:33:20                                              2   \n",
       "\n",
       "                     Thickness of the aquifer: t [m] [50 < t < 100]  \\\n",
       "Timestamp                                                             \n",
       "2018-02-03 00:21:20                                               4   \n",
       "2018-02-04 22:33:20                                               1   \n",
       "\n",
       "                     Thickness of the aquifer: t [m] [100 < t]  \\\n",
       "Timestamp                                                        \n",
       "2018-02-03 00:21:20                                          2   \n",
       "2018-02-04 22:33:20                                          6   \n",
       "\n",
       "                     Ground surface slope: s [m/m] [s < 0.001%]  \\\n",
       "Timestamp                                                         \n",
       "2018-02-03 00:21:20                                           5   \n",
       "2018-02-04 22:33:20                                           1   \n",
       "\n",
       "                     Ground surface slope: s [m/m] [0.001% < s < 0.01%]  \\\n",
       "Timestamp                                                                 \n",
       "2018-02-03 00:21:20                                                  6    \n",
       "2018-02-04 22:33:20                                                  2    \n",
       "\n",
       "                     Ground surface slope: s [m/m] [0.01% < s < 0.1%]  \\\n",
       "Timestamp                                                               \n",
       "2018-02-03 00:21:20                                                 7   \n",
       "2018-02-04 22:33:20                                                 3   \n",
       "\n",
       "                     Ground surface slope: s [m/m] [0.1% < s < 1%]  \\\n",
       "Timestamp                                                            \n",
       "2018-02-03 00:21:20                                              4   \n",
       "2018-02-04 22:33:20                                              4   \n",
       "\n",
       "                     Ground surface slope: s [m/m] [1% < s < 5%]  \\\n",
       "Timestamp                                                          \n",
       "2018-02-03 00:21:20                                            3   \n",
       "2018-02-04 22:33:20                                            5   \n",
       "\n",
       "                     Ground surface slope: s [m/m] [5% < s < 10%]  \\\n",
       "Timestamp                                                           \n",
       "2018-02-03 00:21:20                                             2   \n",
       "2018-02-04 22:33:20                                             6   \n",
       "\n",
       "                     Ground surface slope: s [m/m] [10% < s]  \n",
       "Timestamp                                                     \n",
       "2018-02-03 00:21:20                                        1  \n",
       "2018-02-04 22:33:20                                        7  \n",
       "\n",
       "[2 rows x 48 columns]"
      ]
     },
     "execution_count": 33,
     "metadata": {},
     "output_type": "execute_result"
    }
   ],
   "source": [
    "# Leer datos desde resultados encuesta\n",
    "url = 'https://docs.google.com/spreadsheets/d/1ge_8d3gm0y35dXdrsRCQig4oo7hA-vCzFyNHwquzR8U/edit#gid=0'\n",
    "df = acc.fetch_survey(url)\n",
    "df"
   ]
  },
  {
   "cell_type": "code",
   "execution_count": 34,
   "metadata": {},
   "outputs": [
    {
     "data": {
      "text/plain": [
       "Importance of each Variable? [Average depth of the phreatic level]                         0.023810\n",
       "Importance of each Variable? [Surplus surface flow]                                        0.027356\n",
       "Importance of each Variable? [Distance to the source of flow for recharging]               0.020263\n",
       "Importance of each Variable? [Hydraulic conductivity]                                      0.020263\n",
       "Importance of each Variable? [Thickness of the aquifer]                                    0.027356\n",
       "Importance of each Variable? [Ground surface slope]                                        0.023810\n",
       "Average depth of the phreatic level: h [m] [h < 3]                                         0.020770\n",
       "Average depth of the phreatic level: h [m] [3 < h < 5]                                     0.023810\n",
       "Average depth of the phreatic level: h [m] [5 < h < 10]                                    0.023810\n",
       "Average depth of the phreatic level: h [m] [10 < h < 20]                                   0.017224\n",
       "Average depth of the phreatic level: h [m] [20 < h < 50]                                   0.020263\n",
       "Average depth of the phreatic level: h [m] [50 < h < 100]                                  0.016717\n",
       "Average depth of the phreatic level: h [m] [100 < h]                                       0.020263\n",
       "Surplus surface flow: Q [l/seg] [Q < 1]                                                    0.020770\n",
       "Surplus surface flow: Q [l/seg] [1 < Q < 5]                                                0.016717\n",
       "Surplus surface flow: Q [l/seg] [5 < Q < 10]                                               0.016717\n",
       "Surplus surface flow: Q [l/seg] [10 < Q < 50]                                              0.013678\n",
       "Surplus surface flow: Q [l/seg] [50 < Q < 100]                                             0.020263\n",
       "Surplus surface flow: Q [l/seg] [100 < Q < 300]                                            0.034448\n",
       "Surplus surface flow: Q [l/seg] [300 < Q]                                                  0.020263\n",
       "Distance to the source of flow for recharging: d [m] [d < 1]                               0.020770\n",
       "Distance to the source of flow for recharging: d [m] [1 < d < 10]                          0.020263\n",
       "Distance to the source of flow for recharging: d [m] [10 < d < 25]                         0.020263\n",
       "Distance to the source of flow for recharging: d [m] [25 < d < 50]                         0.020263\n",
       "Distance to the source of flow for recharging: d [m] [50 < d < 100]                        0.020263\n",
       "Distance to the source of flow for recharging: d [m] [100 < d < 1000]                      0.020263\n",
       "Distance to the source of flow for recharging: d [m] [1000 < d]                            0.020770\n",
       "Hydraulic conductivity: K [m/day] [K < 0.002 (Dense Clay)]                                 0.020770\n",
       "Hydraulic conductivity: K [m/day] [0.002 < K < 0.2 (Clay loam, clay poorly structured)]    0.020263\n",
       "Hydraulic conductivity: K [m/day] [0.2 < K < 0.5 (Very fine sandy loan)]                   0.020263\n",
       "Hydraulic conductivity: K [m/day] [0.5 < K < 2 (Clay loam, loam, clay well structured)]    0.020263\n",
       "Hydraulic conductivity: K [m/day] [2 < K < 5 (Sandy loam, Fine sand)]                      0.020263\n",
       "Hydraulic conductivity: K [m/day] [5 < K < 10 (Medium sand)]                               0.020770\n",
       "Hydraulic conductivity: K [m/day] [10 < K (Gravelly coarse sand)]                          0.020263\n",
       "Thickness of the aquifer: t [m] [t < 1]                                                    0.020770\n",
       "Thickness of the aquifer: t [m] [1 < t < 5]                                                0.020263\n",
       "Thickness of the aquifer: t [m] [5 < t < 10]                                               0.016717\n",
       "Thickness of the aquifer: t [m] [10 < t < 25]                                              0.016717\n",
       "Thickness of the aquifer: t [m] [25 < t < 50]                                              0.017224\n",
       "Thickness of the aquifer: t [m] [50 < t < 100]                                             0.030902\n",
       "Thickness of the aquifer: t [m] [100 < t]                                                  0.020263\n",
       "Ground surface slope: s [m/m] [s < 0.001%]                                                 0.027356\n",
       "Ground surface slope: s [m/m] [0.001% < s < 0.01%]                                         0.020263\n",
       "Ground surface slope: s [m/m] [0.01% < s < 0.1%]                                           0.013678\n",
       "Ground surface slope: s [m/m] [0.1% < s < 1%]                                              0.020263\n",
       "Ground surface slope: s [m/m] [1% < s < 5%]                                                0.020263\n",
       "Ground surface slope: s [m/m] [5% < s < 10%]                                               0.020263\n",
       "Ground surface slope: s [m/m] [10% < s]                                                    0.020770\n",
       "dtype: float64"
      ]
     },
     "execution_count": 34,
     "metadata": {},
     "output_type": "execute_result"
    }
   ],
   "source": [
    "w = acc.W(df.T)\n",
    "w"
   ]
  },
  {
   "cell_type": "code",
   "execution_count": null,
   "metadata": {
    "collapsed": true
   },
   "outputs": [],
   "source": [
    "# Guardar a Excel\n",
    "w.to_excel('W_survey.xlsx', header=['W'])"
   ]
  },
  {
   "cell_type": "code",
   "execution_count": null,
   "metadata": {},
   "outputs": [],
   "source": [
    "df.T"
   ]
  }
 ],
 "metadata": {
  "kernelspec": {
   "display_name": "Python 3",
   "language": "python",
   "name": "python3"
  },
  "language_info": {
   "codemirror_mode": {
    "name": "ipython",
    "version": 3
   },
   "file_extension": ".py",
   "mimetype": "text/x-python",
   "name": "python",
   "nbconvert_exporter": "python",
   "pygments_lexer": "ipython3",
   "version": "3.6.2"
  }
 },
 "nbformat": 4,
 "nbformat_minor": 2
}
